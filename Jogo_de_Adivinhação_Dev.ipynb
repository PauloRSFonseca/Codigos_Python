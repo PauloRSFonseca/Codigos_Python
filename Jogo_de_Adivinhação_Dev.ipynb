{
  "nbformat": 4,
  "nbformat_minor": 0,
  "metadata": {
    "colab": {
      "provenance": [],
      "authorship_tag": "ABX9TyNhxCdKbdLzBCFRMdSKKAMt",
      "include_colab_link": true
    },
    "kernelspec": {
      "name": "python3",
      "display_name": "Python 3"
    },
    "language_info": {
      "name": "python"
    }
  },
  "cells": [
    {
      "cell_type": "markdown",
      "metadata": {
        "id": "view-in-github",
        "colab_type": "text"
      },
      "source": [
        "<a href=\"https://colab.research.google.com/github/PauloRSFonseca/Codigos_Python/blob/main/Jogo_de_Adivinha%C3%A7%C3%A3o_Dev.ipynb\" target=\"_parent\"><img src=\"https://colab.research.google.com/assets/colab-badge.svg\" alt=\"Open In Colab\"/></a>"
      ]
    },
    {
      "cell_type": "code",
      "execution_count": null,
      "metadata": {
        "colab": {
          "base_uri": "https://localhost:8080/"
        },
        "id": "TP-yxG1k2u_2",
        "outputId": "62df1453-1db4-402f-910a-e8d69a881805"
      },
      "outputs": [
        {
          "output_type": "stream",
          "name": "stdout",
          "text": [
            "A palavra secreta tem 7 letras\n",
            "A dica é -> desenvolver aplicativos e sistemas operacionais para computadores pessoais.\n"
          ]
        }
      ],
      "source": [
        "#jogo de adivinhação Dev!\n",
        "#trazendo a biblioteca capaz de realizar requisições\n",
        "import requests\n",
        "import random\n",
        "\n",
        "# Histórico de chutes\n",
        "historico_chutes = []\n",
        "\n",
        "# Limite de tentativas\n",
        "tentativas_restantes = 3\n",
        "\n",
        "# Pontuação inicial\n",
        "pontuacao = 0\n",
        "\n",
        "#uma variável chamada url que armazena o endereço com as informações que desejo buscar\n",
        "url = 'https://raw.githubusercontent.com/guilhermeonrails/api-imersao-ia/main/words.json'\n",
        "#faço a requisição e armazeno em uma variável chamada resposta\n",
        "resposta = requests.get (url)\n",
        "#transforma resposta em um JSON\n",
        "data = resposta.json()\n",
        "\n",
        "\n",
        "\n",
        "#variável chamada valor secreto que armazena uma tecnológia aleatória da lista\n",
        "valor_secreto = random.choice(data)\n",
        "#variável criada para armazenar apenas a palavra\n",
        "palavra_secreta = valor_secreto['palavra']\n",
        "#variável criada para armazenar apenas a dica\n",
        "dica = valor_secreto['dica']\n",
        "#mostra na tela quantas letras a palavra secreeta possui e a dica\n",
        "#o f é capaz de juntar palavras e variáveis\n",
        "#receber o chute ou palpite da tecnologia\n",
        "print(f'A palavra secreta tem {len(palavra_secreta)} letras')\n",
        "print(f'A dica é -> {dica}')\n",
        "\n",
        "while tentativas_restantes > 0: #Testa as condições de quantidade de tentativas restantes\n",
        "    chute = input('O que você acha que é: ')\n",
        "    historico_chutes.append(chute)\n",
        "\n",
        "    if chute == palavra_secreta: #Testa se o chute é igual a palavra secreta\n",
        "        pontuacao += len(palavra_secreta)\n",
        "        print(f'Acertou! A palavra secreta era {palavra_secreta}. Sua pontuação atual é {pontuacao}')\n",
        "        break\n",
        "    else:\n",
        "        tentativas_restantes -= 1 #Testa quando o chute é diferente da palavra secreta e reduz a quantidade de tentativas\n",
        "        if tentativas_restantes == 0:  # Verifica se as tentativas se esgotaram\n",
        "            print(f'Você não tem mais tentativas restantes. A palavra secreta era {palavra_secreta}.')\n",
        "            break  # Encerra o loop se não houver mais tentativas\n",
        "        else:\n",
        "            print(f'Errou... Você tem {tentativas_restantes} tentativas restantes.')\n",
        "            print(f'Histórico de chutes: {historico_chutes}')"
      ]
    },
    {
      "cell_type": "markdown",
      "source": [],
      "metadata": {
        "id": "Llb3kA715R9s"
      }
    }
  ]
}